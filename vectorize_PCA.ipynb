{
 "cells": [
  {
   "cell_type": "code",
   "execution_count": 3,
   "metadata": {},
   "outputs": [],
   "source": [
    "import matplotlib.pyplot as plt\n",
    "import seaborn as sns\n",
    "import numpy as np\n",
    "\n",
    "from scipy import sparse\n",
    "from sklearn.decomposition import TruncatedSVD\n",
    "\n",
    "from sklearn.preprocessing import StandardScaler\n",
    "from sklearn.decomposition import PCA\n",
    "import pickle\n",
    "from sklearn.utils import shuffle\n",
    "import sys\n",
    "\n",
    "my_filepath = \"/Users/kinichen/UTSSRP/Tuzhilina_Project/UTSSRP-github/contact_dict.pkl\""
   ]
  },
  {
   "cell_type": "code",
   "execution_count": 2,
   "metadata": {},
   "outputs": [],
   "source": [
    "if __name__ == \"__main__\":\t# don't run if imported\n",
    "\t# load data nested dictionary data file \n",
    "\t# Format contact_dict = {cell_type: {cell_name: dataframe, ...}, ...}\n",
    "\t# E.g. {'GM12878': {'cell1.txt': contact_matrix1, 'cell2.txt': contact_matrix2},\n",
    "\t#     'K562': {'cell3.txt': contact_matrix3}, ...}\n",
    "\twith open(my_filepath, \"rb\") as f:\n",
    "\t\tcontact_dict = pickle.load(f)\n",
    "\n",
    "\t# display(contact_dict)"
   ]
  },
  {
   "cell_type": "code",
   "execution_count": 3,
   "metadata": {},
   "outputs": [],
   "source": [
    "def vectorize_contact_matrix(contact_matrix, include_diag=False):\n",
    "\t\"\"\"\n",
    "\tVectorizes the block-diagonal contact matrix using the upper triangle.\n",
    "\t\n",
    "\tArgs:\n",
    "\t\tcontact_matrix (ndarray): Square 4D block matrix of shape (chr_i, chr_j, loc_i, loc_j).\n",
    "\t\tinclude_diagonal (bool): Whether to include the diagonal in the vector.\n",
    "\t\n",
    "\tReturns:\n",
    "\t\t1D np.array of concatenated vectorized intra-chromosome contacts.\n",
    "\t\"\"\"\n",
    "\tvectorized = []\n",
    "\n",
    "\tfor i in range(23):  # for each chromosome (diagonal block)\n",
    "\t# note: assuming no INTER-chromosomal contact blocks\n",
    "\t\tblock = np.array(contact_matrix[i][i])\n",
    "\t\tlength = block.shape[0]  # number of loci\n",
    "\n",
    "\t\tk = 1 # Default is exclude diagonal\n",
    "\t\tif include_diag:\n",
    "\t\t\tk = 0\n",
    "\t\ttriu_indices = np.triu_indices(length, k=k)\n",
    "\t\tupper_triangle = block[triu_indices]\n",
    "\n",
    "\t\tvectorized.append(upper_triangle)\n",
    "\t\t\n",
    "\n",
    "\t# concatenate all chromosomes into one vector in row-major style\n",
    "\treturn np.concatenate(vectorized)\n",
    "\n"
   ]
  },
  {
   "cell_type": "code",
   "execution_count": 4,
   "metadata": {},
   "outputs": [
    {
     "name": "stdout",
     "output_type": "stream",
     "text": [
      "X shape: (2611, 236562)\n"
     ]
    }
   ],
   "source": [
    "def get_X_labels_lens(contact_dict):\n",
    "\t\"\"\"\n",
    "\tGet overall matrix X for applying dimension reduction\n",
    "\trows = number of cells (observations), \n",
    "\tcolumns = number of contact intersections/\"pixels\" (features)\n",
    "\n",
    "\tOutput: X (np array): (num_cells, num_features)\n",
    "\t\tcell_labels (list of tuples): (cell_type, cell_name) for each row = cell in X\n",
    "\t\tlabels (list): type of each cell\n",
    "\t\tchr_lens (list): length (number of loci) for each chromosome\n",
    "\t\"\"\"\n",
    "\t# Master matrix and labels\n",
    "\tall_vectors = []\n",
    "\tcell_labels = []\n",
    "\tlabels = []\n",
    "\tchr_lens = []\n",
    "\n",
    "\tfirst_cell = True\n",
    "\tfor cell_type, cells in contact_dict.items():\n",
    "\t\tfor cell_name, matrix in cells.items():\n",
    "\t\t\tvec = vectorize_contact_matrix(matrix)\n",
    "\t\t\tall_vectors.append(vec)\n",
    "\t\t\tcell_labels.append((cell_type, cell_name))\n",
    "\t\t\tlabels.append(cell_type)\t# for coloring cell points by their type\n",
    "\t\t\t\n",
    "\t\t\tif first_cell: # only need to find chromosome lengths for one cell\n",
    "\t\t\t\tfor i in range(23):  # for each chromosome (diagonal block)\n",
    "\t\t\t\t\tblock = np.array(matrix[i][i])\n",
    "\t\t\t\t\tchr_lens.append(block.shape[0])\n",
    "\t\t\t\tfirst_cell = False\n",
    "\n",
    "\t# convert to np array for efficient masking. Else, kernel will crash\n",
    "\tlabels = np.array(labels)\n",
    "\t\t\t\t\n",
    "\t# Stack into a matrix: each row is a vectorized cell\n",
    "\tX = np.vstack(all_vectors)\n",
    "\treturn(X, cell_labels, labels, chr_lens)\n",
    "\n",
    "if __name__ == \"__main__\":\t# don't run if imported\n",
    "\tX, cell_labels, labels, chr_lens = get_X_labels_lens(contact_dict)\n",
    "\tprint(\"X shape:\", X.shape)\t# UNfiltered: 2611 cell files, 236562 loci contact pairs\n",
    "\t# display(X)"
   ]
  },
  {
   "cell_type": "code",
   "execution_count": 12,
   "metadata": {},
   "outputs": [],
   "source": [
    "# Scatter biplot of PC1 vs PC2. Each point represents a cell coloured by its cell type.\n",
    "def biplot(X_pca, loadings, labels=None, feature_names=None, top_features=5):\n",
    "\tplt.figure(figsize=(10, 5))\n",
    "\n",
    "\tif labels is not None: # labelling cells by type\n",
    "\t\tunique_labels = sorted(np.unique(labels))\n",
    "\t\tcolors = plt.cm.get_cmap('tab10', len(unique_labels))\n",
    "\t\tfor i, label in enumerate(unique_labels):\n",
    "\t\t\tmask = labels == label\n",
    "\t\t\tplt.scatter(X_pca[mask, 0], X_pca[mask, 1],\n",
    "\t\t\t\t\t\tlabel=label, s=40, alpha=0.6, color=colors(i))\n",
    "\telse:\n",
    "\t\tplt.scatter(X_pca[:, 0], X_pca[:, 1], s=40, alpha=0.6, color=\"gray\")\n",
    "\n",
    "\n",
    "\tif top_features > 0:\n",
    "\t\t# Arrows for top contributing feature vectors\n",
    "\t\t# norm for each feature row in loadings tells you how much that feature i\n",
    "\t\t# contributes to PC1 and PC2 aka how important that feature is!\n",
    "\t\tnorms = np.linalg.norm(loadings[:, :2], axis=1)\n",
    "\t\ttop_idx = np.argsort(norms)[-top_features:] # indices of the top features (largest norms)\n",
    "\n",
    "\t\tfor i in top_idx:\n",
    "\t\t\tx, y = loadings[i, 0] * 2, loadings[i, 1] * 2\n",
    "\t\t\tname = feature_names[i] if feature_names else f\"F{i}\"\n",
    "\t\t\tplt.arrow(0, 0, x, y, color='crimson', alpha=0.7,\n",
    "\t\t\t\t\thead_width=0.04, head_length=0.08, linewidth=1.5)\n",
    "\t\t\tplt.text(x*1.1, y*1.1, name, color='crimson', fontsize=8)\n",
    "\n",
    "\tplt.gca().set_aspect('auto')  # default (PC1 and PC2 scaled independently)\n",
    "\tplt.xlabel(\"PC1\")\n",
    "\tplt.ylabel(\"PC2\")\n",
    "\tplt.title(\"PCA (Truncated SVD) Biplot with Top Features\")\n",
    "\tif labels is not None:\n",
    "\t\tplt.legend()\n",
    "\tplt.grid(True)\n",
    "\tplt.show()\n"
   ]
  },
  {
   "cell_type": "code",
   "execution_count": 13,
   "metadata": {},
   "outputs": [
    {
     "name": "stdout",
     "output_type": "stream",
     "text": [
      "X shape: (2611, 236562)\n",
      "X dtype: float32\n",
      "Approx. size of X (MB): 2356.1989364624023\n"
     ]
    }
   ],
   "source": [
    "if __name__ == \"__main__\":\n",
    "\t# Check original X memory\n",
    "\tprint(\"X shape:\", X.shape)\n",
    "\tprint(\"X dtype:\", X.dtype)\n",
    "\tprint(\"Approx. size of X (MB):\", sys.getsizeof(X) / 1024**2)\n",
    "\t# super large total memory 2611 × 236562 × 4 bytes ≈ 2.36 GB"
   ]
  },
  {
   "cell_type": "code",
   "execution_count": 14,
   "metadata": {},
   "outputs": [
    {
     "name": "stdout",
     "output_type": "stream",
     "text": [
      "Explained variance ratio: [0.29110587 0.01174983]\n",
      "X shape: (2611, 236562)\n",
      "X_pca shape: (2611, 236562)\n",
      "Loadings shape: (236562, 2)\n",
      "Labels: {'GM12878', 'Hela', 'K562', 'HAP1'}\n"
     ]
    },
    {
     "name": "stderr",
     "output_type": "stream",
     "text": [
      "/var/folders/xp/t7rnpyzn1pbcbh0b7hnzp4dm0000gn/T/ipykernel_13677/90098829.py:7: MatplotlibDeprecationWarning: The get_cmap function was deprecated in Matplotlib 3.7 and will be removed two minor releases later. Use ``matplotlib.colormaps[name]`` or ``matplotlib.colormaps.get_cmap(obj)`` instead.\n",
      "  colors = plt.cm.get_cmap('tab10', len(unique_labels))\n"
     ]
    },
    {
     "data": {
      "image/png": "[encoded data removed]",
      "text/plain": [
       "<Figure size 1000x500 with 1 Axes>"
      ]
     },
     "metadata": {},
     "output_type": "display_data"
    }
   ],
   "source": [
    "# For biplot visualization\n",
    "if __name__ == \"__main__\":\t# don't run if imported\n",
    "\tX = X.astype(np.float32) # halve memory space\n",
    "\n",
    "\n",
    "\t# To avoid kernel crashing again (data size is too large in memory for computation),\n",
    "\t# convert to sparse format (okay because X has many Os = no contact)\n",
    "\tX_sparse = sparse.csr_matrix(X)\n",
    "\n",
    "\n",
    "\t''' Alternative way to lower memory, but probably less representative of data\n",
    "\t# Subsample only less cells to avoid memory issues (kernel crashing again)\n",
    "\tX_small, labels_small = shuffle(X, labels, random_state=42) # seed for reproducibility\n",
    "\t# Note: not stratified sampling so not guaranteed representation for cell types with small sample sizes\n",
    "\tX_small = X_small[:300]\n",
    "\tlabels_small = labels_small[:300]\n",
    "\n",
    "\t# Perform PCA, keeping only top 2 components\n",
    "\tX_scaled = StandardScaler().fit_transform(X)\n",
    "\tpca = PCA(n_components=2)\n",
    "\tX_pca = pca.fit_transform(X_scaled)\n",
    "\t'''\n",
    "\n",
    "\t# then perform PCA that supports sparse (i.e. TruncatedSVD)\n",
    "\tsvd = TruncatedSVD(n_components=2)\t# svd is much faster (no centering) but same idea as PCA\n",
    "\tX_pca = svd.fit_transform(X_sparse)\n",
    "\n",
    "\tloadings = svd.components_.T       # shape = (n_features, 2)\n",
    "\texplained_var = svd.explained_variance_ratio_\n",
    "\tprint(f\"Explained variance ratio: {svd.explained_variance_ratio_}\")\n",
    "\n",
    "\n",
    "\t# Build feature_names, so can interpret key features from biplot\n",
    "\t# Each feature (column of X) represents a (chromosome, locus_i, locus_j) pair.\n",
    "\t# E.g. feature_names[i] = \"chr3:42-47\" means the ith feature corresponds to the\n",
    "\t# contact between locus 42 and locus 47 on chromosome 3 (only intrachromosomal contacts)\n",
    "\tfeature_names = []\n",
    "\tchromosomes = [f\"chr{i+1}\" for i in range(len(chr_lens))]\n",
    "\n",
    "\tk = 1 # set to 0 if want to include block diagonals\n",
    "\tfor chr_idx, chr_len in enumerate(chr_lens):\n",
    "\t\tfor i in range(chr_len):\n",
    "\t\t\tfor j in range(i + k, chr_len):\n",
    "\t\t\t\tfeature_names.append(f\"{chromosomes[chr_idx]}:{i}-{j}\")\n",
    "\n",
    "\t\t\n",
    "\t# check\n",
    "\tassert len(feature_names) == X.shape[1], \"Mismatch: feature_names do not align with X columns\"\n",
    "\n",
    "\tprint(\"X shape:\", X.shape)\n",
    "\tprint(\"X_pca shape:\", X.shape)\n",
    "\tprint(\"Loadings shape:\", loadings.shape)\n",
    "\tprint(\"Labels:\", set(labels))\n",
    "\n",
    "\tbiplot(X_pca, loadings, labels=labels, feature_names=feature_names, top_features=5)"
   ]
  },
  {
   "cell_type": "code",
   "execution_count": null,
   "metadata": {},
   "outputs": [],
   "source": [
    "if __name__ == \"__main__\":\n",
    "\t# Perform general PCA, keeping components such that var_explained % of the \n",
    "\t# variance is explained\n",
    "\tvar_explained=0.9\n",
    "\tX_scaled = StandardScaler.fit_transform(X)\n",
    "\tpca = PCA(n_components=var_explained)\n",
    "\tX_pca = pca.fit_transform(X_scaled)\n",
    "\t# print(pca.n_components_)\n",
    "\n",
    "\t# save memory version, approximating to less components\n",
    "\tsvd = TruncatedSVD(n_components=100)\t# svd is much faster (no centering) but same idea as PCA\n",
    "\tX_pca = svd.fit_transform(X_sparse)\n",
    "\tprint(svd.explained_variance_ratio_)"
   ]
  },
  {
   "cell_type": "code",
   "execution_count": 4,
   "metadata": {},
   "outputs": [
    {
     "ename": "NameError",
     "evalue": "name 'X_sparse' is not defined",
     "output_type": "error",
     "traceback": [
      "\u001b[0;31m---------------------------------------------------------------------------\u001b[0m",
      "\u001b[0;31mNameError\u001b[0m                                 Traceback (most recent call last)",
      "Cell \u001b[0;32mIn[4], line 10\u001b[0m\n\u001b[1;32m      8\u001b[0m \u001b[38;5;66;03m# using sparse X and svd\u001b[39;00m\n\u001b[1;32m      9\u001b[0m svd \u001b[38;5;241m=\u001b[39m TruncatedSVD(n_components\u001b[38;5;241m=\u001b[39m\u001b[38;5;241m100\u001b[39m)\t\n\u001b[0;32m---> 10\u001b[0m X_pca \u001b[38;5;241m=\u001b[39m svd\u001b[38;5;241m.\u001b[39mfit_transform(X_sparse)\n\u001b[1;32m     11\u001b[0m explained_var \u001b[38;5;241m=\u001b[39m svd\u001b[38;5;241m.\u001b[39mexplained_variance_ratio_\n\u001b[1;32m     12\u001b[0m \u001b[38;5;28mprint\u001b[39m(\u001b[38;5;124m\"\u001b[39m\u001b[38;5;124mCumulative explained variance:\u001b[39m\u001b[38;5;124m\"\u001b[39m, explained_var)\n",
      "\u001b[0;31mNameError\u001b[0m: name 'X_sparse' is not defined"
     ]
    }
   ],
   "source": [
    "if __name__ == \"__main__\":\n",
    "\t# Scree plot (to examine the lower rank structure of contact data)\n",
    "\t'''\n",
    "\tpca = PCA()\n",
    "\tX_pca_full = pca.fit_transform(X_scaled)\n",
    "\texplained_var = pca.explained_variance_ratio_\n",
    "\t'''\n",
    "\n",
    "\t# using sparse X and svd\n",
    "\tsvd = TruncatedSVD(n_components=100)\t\n",
    "\tX_pca = svd.fit_transform(X_sparse)\n",
    "\texplained_var = svd.explained_variance_ratio_\n",
    "\tprint(\"Cumulative explained variance:\", explained_var)\n",
    "\n",
    "\n",
    "\tplt.figure(figsize=(8, 5))\n",
    "\tplt.plot(range(1, len(explained_var)+1), explained_var, marker='o', \n",
    "\t\t  linestyle='-', label='Individual')\n",
    "\tplt.plot(range(1, len(explained_var)+1), np.cumsum(explained_var), \n",
    "\t\t  marker='x', linestyle='--', label='Cumulative')\n",
    "\tplt.xlabel('Principal Component/Singular Vector')\n",
    "\tplt.ylabel('Explained Variance Ratio')\n",
    "\tplt.title('Scree Plot')\n",
    "\tplt.xticks(range(1, len(explained_var)+1))\n",
    "\tplt.legend()\n",
    "\tplt.grid(True)\n",
    "\tplt.tight_layout()\n",
    "\tplt.show()"
   ]
  }
 ],
 "metadata": {
  "kernelspec": {
   "display_name": "neuro_jb_lab_env",
   "language": "python",
   "name": "python3"
  },
  "language_info": {
   "codemirror_mode": {
    "name": "ipython",
    "version": 3
   },
   "file_extension": ".py",
   "mimetype": "text/x-python",
   "name": "python",
   "nbconvert_exporter": "python",
   "pygments_lexer": "ipython3",
   "version": "3.12.4"
  }
 },
 "nbformat": 4,
 "nbformat_minor": 2
}
